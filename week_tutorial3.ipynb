{
  "metadata": {
    "kernelspec": {
      "name": "python",
      "display_name": "Python (Pyodide)",
      "language": "python"
    },
    "language_info": {
      "codemirror_mode": {
        "name": "python",
        "version": 3
      },
      "file_extension": ".py",
      "mimetype": "text/x-python",
      "name": "python",
      "nbconvert_exporter": "python",
      "pygments_lexer": "ipython3",
      "version": "3.8"
    }
  },
  "nbformat_minor": 5,
  "nbformat": 4,
  "cells": [
    {
      "id": "e2bf2c84-6b98-4259-9ce1-3a5120924b74",
      "cell_type": "code",
      "source": "def sort012(arr):\n    low = 0\n    mid = 0\n    high = len(arr) - 1\n\n    # Dutch National Flag Algorithm\n    while mid <= high:\n        if arr[mid] == 0:\n            arr[low], arr[mid] = arr[mid], arr[low]\n            low += 1\n            mid += 1\n        elif arr[mid] == 1:\n            mid += 1\n        else:  # arr[mid] == 2\n            arr[mid], arr[high] = arr[high], arr[mid]\n            high -= 1\n\n    return arr\n\n# Example usage:\nexample1 = [0, 1, 2, 0, 1, 2]\nexample2 = [0, 1, 1, 0, 1, 2, 1, 2, 0, 0, 0, 1]\n\nprint(sort012(example1))  # Output: [0, 0, 1, 1, 2, 2]\nprint(sort012(example2))  # Output: [0, 0, 0, 0, 0, 1, 1, 1, 1, 1, 2, 2]\n",
      "metadata": {
        "trusted": true
      },
      "outputs": [
        {
          "name": "stdout",
          "output_type": "stream",
          "text": "[0, 0, 1, 1, 2, 2]\n[0, 0, 0, 0, 0, 1, 1, 1, 1, 1, 2, 2]\n"
        }
      ],
      "execution_count": 1
    },
    {
      "id": "f3486bb1-9214-487d-bd41-90513a7016fa",
      "cell_type": "code",
      "source": "",
      "metadata": {
        "trusted": true
      },
      "outputs": [],
      "execution_count": null
    }
  ]
}