{
  "metadata": {
    "kernelspec": {
      "name": "python",
      "display_name": "Python (Pyodide)",
      "language": "python"
    },
    "language_info": {
      "codemirror_mode": {
        "name": "python",
        "version": 3
      },
      "file_extension": ".py",
      "mimetype": "text/x-python",
      "name": "python",
      "nbconvert_exporter": "python",
      "pygments_lexer": "ipython3",
      "version": "3.8"
    }
  },
  "nbformat_minor": 5,
  "nbformat": 4,
  "cells": [
    {
      "id": "2fde4757-6cbb-40b1-bddb-2b89dbfd4bd7",
      "cell_type": "code",
      "source": "def binary_search_first_occurrence(arr, k):\n    left = 0\n    right = len(arr) - 1\n    result = -1  # Default if not found\n\n    while left <= right:\n        mid = (left + right) // 2\n\n        if arr[mid] == k:\n            result = mid  # Store the index\n            right = mid - 1  # Search further left for first occurrence\n        elif arr[mid] < k:\n            left = mid + 1\n        else:\n            right = mid - 1\n\n    return result\n\n# Example test cases\nprint(binary_search_first_occurrence([1, 2, 3, 4, 5], 4))         # Output: 3\nprint(binary_search_first_occurrence([11, 22, 33, 44, 55], 445))  # Output: -1\nprint(binary_search_first_occurrence([1, 1, 1, 1, 2], 1))         # Output: 0\n\n",
      "metadata": {
        "trusted": true
      },
      "outputs": [
        {
          "name": "stdout",
          "output_type": "stream",
          "text": "3\n-1\n0\n"
        }
      ],
      "execution_count": 1
    },
    {
      "id": "c1e99abb-25a0-4f67-bcfd-7b2a6db5d32e",
      "cell_type": "code",
      "source": "",
      "metadata": {
        "trusted": true
      },
      "outputs": [],
      "execution_count": null
    }
  ]
}